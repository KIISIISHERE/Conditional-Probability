{
  "nbformat": 4,
  "nbformat_minor": 0,
  "metadata": {
    "colab": {
      "provenance": [],
      "authorship_tag": "ABX9TyO9xowrS1Ftuu0iBNc3FuKc",
      "include_colab_link": true
    },
    "kernelspec": {
      "name": "python3",
      "display_name": "Python 3"
    },
    "language_info": {
      "name": "python"
    }
  },
  "cells": [
    {
      "cell_type": "markdown",
      "metadata": {
        "id": "view-in-github",
        "colab_type": "text"
      },
      "source": [
        "<a href=\"https://colab.research.google.com/github/KIISIISHERE/Conditional-Probability/blob/main/Conditional_Probability.ipynb\" target=\"_parent\"><img src=\"https://colab.research.google.com/assets/colab-badge.svg\" alt=\"Open In Colab\"/></a>"
      ]
    },
    {
      "cell_type": "code",
      "execution_count": 5,
      "metadata": {
        "id": "LGfNcEO4upsl",
        "colab": {
          "base_uri": "https://localhost:8080/"
        },
        "outputId": "01d746b0-d3e4-4bba-a317-85b0d326f9c3"
      },
      "outputs": [
        {
          "output_type": "stream",
          "name": "stdout",
          "text": [
            "Check the probability of any event occuring using different options\n",
            "Is the Student a Freshman?\n",
            "1.Yes\n",
            "2.No\n",
            "Enter your choice (1/2):1\n",
            "Is the Student eating in the dining hall?\n",
            "1.Yes\n",
            "2.No\n",
            "Enter your choice (1/2):2\n",
            "The probability of a freshman, eating or not eating in the dining hall: 0.25\n",
            "The probability of the selected event:  0.075\n"
          ]
        }
      ],
      "source": [
        "#find the probability of a student who eats in the dining hall,if the student is a freshman\n",
        "def a_and_b(a,b):\n",
        "  if a==1:\n",
        "    prob_student=0.3\n",
        "    if b==1:\n",
        "      prob_dining=0.75\n",
        "    else:\n",
        "      prob_dining=0.25\n",
        "    print(\"The probability of a freshman, eating or not eating in the dining hall:\",prob_dining)\n",
        "  if a==2:#not a freshman\n",
        "    prob_student=0.7\n",
        "    if b==1:\n",
        "      prob_dining=0.6\n",
        "    else:\n",
        "      prob_dining=0.4\n",
        "    print(\"The probability of a student who is not a freshman, eating or not eating in the dining hall:\",prob_dining)\n",
        "  prob_a_and_b=prob_student*prob_dining#multiplication rule\n",
        "  return prob_a_and_b\n",
        "print(\"Check the probability of any event occuring using different options\")\n",
        "\n",
        "while True:\n",
        "  try:\n",
        "    a = int(input(\"Is the Student a Freshman?\\n1.Yes\\n2.No\\nEnter your choice (1/2):\"))\n",
        "    if a in [1, 2]:\n",
        "      break\n",
        "    else:\n",
        "      print(\"Invalid input. Please enter 1 or 2.\")\n",
        "  except ValueError:\n",
        "    print(\"Invalid input. Please enter an integer.\")\n",
        "\n",
        "while True:\n",
        "  try:\n",
        "    b = int(input(\"Is the Student eating in the dining hall?\\n1.Yes\\n2.No\\nEnter your choice (1/2):\"))\n",
        "    if b in [1, 2]:\n",
        "      break\n",
        "    else:\n",
        "      print(\"Invalid input. Please enter 1 or 2.\")\n",
        "  except ValueError:\n",
        "    print(\"Invalid input. Please enter an integer.\")\n",
        "\n",
        "#print the output\n",
        "print(\"The probability of the selected event: \",a_and_b(a,b))"
      ]
    }
  ]
}